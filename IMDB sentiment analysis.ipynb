{
 "cells": [
  {
   "cell_type": "code",
   "execution_count": 1,
   "metadata": {},
   "outputs": [],
   "source": [
    "#importing libraries\n",
    "import pandas as pd\n",
    "import numpy as np\n",
    "import matplotlib.pyplot as plt\n",
    "\n",
    "import nltk\n",
    "import spacy\n",
    "import string\n",
    "import re \n",
    "%matplotlib inline"
   ]
  },
  {
   "cell_type": "code",
   "execution_count": 2,
   "metadata": {},
   "outputs": [
    {
     "name": "stdout",
     "output_type": "stream",
     "text": [
      "c:\\Users\\91895\\Desktop\\NLP\n"
     ]
    }
   ],
   "source": [
    "import os\n",
    "path = os.getcwd()\n",
    "print(path)\n",
    "df_train = pd.read_csv(path+'\\dataset\\Train.csv')\n",
    "df_test = pd.read_csv(path+'\\dataset\\Test.csv')"
   ]
  },
  {
   "cell_type": "code",
   "execution_count": 3,
   "metadata": {},
   "outputs": [],
   "source": [
    "df = [df_train, df_test]"
   ]
  },
  {
   "cell_type": "code",
   "execution_count": 4,
   "metadata": {},
   "outputs": [
    {
     "name": "stdout",
     "output_type": "stream",
     "text": [
      "(40000, 2)\n",
      "(5000, 2)\n"
     ]
    }
   ],
   "source": [
    "for data in df:\n",
    "    print(data.shape)"
   ]
  },
  {
   "cell_type": "code",
   "execution_count": null,
   "metadata": {},
   "outputs": [],
   "source": []
  },
  {
   "cell_type": "code",
   "execution_count": null,
   "metadata": {},
   "outputs": [],
   "source": []
  },
  {
   "cell_type": "code",
   "execution_count": 5,
   "metadata": {},
   "outputs": [
    {
     "data": {
      "image/png": "[encoded data removed]",
      "text/plain": [
       "<Figure size 720x576 with 1 Axes>"
      ]
     },
     "metadata": {
      "needs_background": "dark"
     },
     "output_type": "display_data"
    },
    {
     "data": {
      "image/png": "[encoded data removed]",
      "text/plain": [
       "<Figure size 720x576 with 1 Axes>"
      ]
     },
     "metadata": {
      "needs_background": "dark"
     },
     "output_type": "display_data"
    }
   ],
   "source": [
    "import seaborn as sns\n",
    "for data in df:\n",
    "    plt.figure(figsize=(10,8))\n",
    "    sns.countplot(x = data['label'], data = data)\n",
    "    plt.show()"
   ]
  },
  {
   "cell_type": "markdown",
   "metadata": {},
   "source": [
    "Provided data is balanced data"
   ]
  },
  {
   "cell_type": "markdown",
   "metadata": {},
   "source": [
    "Text data preprocessing"
   ]
  },
  {
   "cell_type": "code",
   "execution_count": 6,
   "metadata": {},
   "outputs": [],
   "source": [
    "#converting to lower case\n",
    "for data in df:\n",
    "    data['text'] = data['text'].str.lower()"
   ]
  },
  {
   "cell_type": "code",
   "execution_count": 7,
   "metadata": {},
   "outputs": [],
   "source": [
    "def remove_urls(text):\n",
    "    url_pattern = re.compile(r'https?://\\S+|www\\.\\S+')\n",
    "    return url_pattern.sub(r'', text)"
   ]
  },
  {
   "cell_type": "code",
   "execution_count": 8,
   "metadata": {},
   "outputs": [],
   "source": [
    "for data in df:\n",
    "    data['text'] = data['text'].apply(remove_urls)"
   ]
  },
  {
   "cell_type": "code",
   "execution_count": 9,
   "metadata": {},
   "outputs": [],
   "source": [
    "def remove_emoji(text):\n",
    "    text = re.sub('<[^>]*.', '', text)\n",
    "    emojis = re.findall('(?::|;|=)(?:-)?(?:\\)|\\(|D|P)',text)\n",
    "    text=re.sub('[\\W]+',' ',text.lower()) +\\\n",
    "                ' '.join(emojis).replace('-','')\n",
    "    return text\n"
   ]
  },
  {
   "cell_type": "code",
   "execution_count": 10,
   "metadata": {},
   "outputs": [],
   "source": [
    "for data in df:\n",
    "    data['text'] = data['text'].apply(remove_emoji)"
   ]
  },
  {
   "cell_type": "code",
   "execution_count": 11,
   "metadata": {},
   "outputs": [
    {
     "data": {
      "text/html": [
       "<div>\n",
       "<style scoped>\n",
       "    .dataframe tbody tr th:only-of-type {\n",
       "        vertical-align: middle;\n",
       "    }\n",
       "\n",
       "    .dataframe tbody tr th {\n",
       "        vertical-align: top;\n",
       "    }\n",
       "\n",
       "    .dataframe thead th {\n",
       "        text-align: right;\n",
       "    }\n",
       "</style>\n",
       "<table border=\"1\" class=\"dataframe\">\n",
       "  <thead>\n",
       "    <tr style=\"text-align: right;\">\n",
       "      <th></th>\n",
       "      <th>text</th>\n",
       "      <th>label</th>\n",
       "    </tr>\n",
       "  </thead>\n",
       "  <tbody>\n",
       "    <tr>\n",
       "      <th>0</th>\n",
       "      <td>i grew up b 1965 watching and loving the thund...</td>\n",
       "      <td>0</td>\n",
       "    </tr>\n",
       "    <tr>\n",
       "      <th>1</th>\n",
       "      <td>when i put this movie in my dvd player and sat...</td>\n",
       "      <td>0</td>\n",
       "    </tr>\n",
       "    <tr>\n",
       "      <th>2</th>\n",
       "      <td>why do people who do not know what a particula...</td>\n",
       "      <td>0</td>\n",
       "    </tr>\n",
       "    <tr>\n",
       "      <th>3</th>\n",
       "      <td>even though i have great interest in biblical ...</td>\n",
       "      <td>0</td>\n",
       "    </tr>\n",
       "    <tr>\n",
       "      <th>4</th>\n",
       "      <td>im a die hard dads army fan and nothing will e...</td>\n",
       "      <td>1</td>\n",
       "    </tr>\n",
       "  </tbody>\n",
       "</table>\n",
       "</div>"
      ],
      "text/plain": [
       "                                                text  label\n",
       "0  i grew up b 1965 watching and loving the thund...      0\n",
       "1  when i put this movie in my dvd player and sat...      0\n",
       "2  why do people who do not know what a particula...      0\n",
       "3  even though i have great interest in biblical ...      0\n",
       "4  im a die hard dads army fan and nothing will e...      1"
      ]
     },
     "execution_count": 11,
     "metadata": {},
     "output_type": "execute_result"
    }
   ],
   "source": [
    "df_train.head()"
   ]
  },
  {
   "cell_type": "code",
   "execution_count": 12,
   "metadata": {},
   "outputs": [],
   "source": [
    "#removing punctuation\n",
    "def remove_punctuation(text):\n",
    "    return text.translate(str.maketrans('', '', string.punctuation))\n",
    "\n",
    "for data in df:\n",
    "    data['text'] = data['text'].apply(remove_punctuation)"
   ]
  },
  {
   "cell_type": "code",
   "execution_count": 13,
   "metadata": {},
   "outputs": [
    {
     "data": {
      "text/plain": [
       "'maybe it s unfair to dislike a movie for what it isn t rather than what it is but i approached this hoping that finally a filmmaker would make a movie about small town rural gay men and women instead the focus is primarily on the outrageous bigotry big news of the locals and those in outlying areas and the really gruesome torture murder of a young gay man so much time devoted to stupid people squawking about aids sin hellfire and perverts so much time devoted to the ghoulish preacher ranting about the bible and gay people getting what they deserve i wanted to see more of the people that came to the small town gay bar not those who opposed it in addition the young man who was murdered isn t even from this town the whole movie works as a warning rather than a celebration and it s very suspect '"
      ]
     },
     "execution_count": 13,
     "metadata": {},
     "output_type": "execute_result"
    }
   ],
   "source": [
    "data['text'][100]"
   ]
  },
  {
   "cell_type": "code",
   "execution_count": 14,
   "metadata": {},
   "outputs": [],
   "source": [
    "from nltk.tokenize import word_tokenize\n"
   ]
  },
  {
   "cell_type": "code",
   "execution_count": 15,
   "metadata": {},
   "outputs": [
    {
     "data": {
      "text/plain": [
       "'when i put this movie in my dvd player and sat down with a coke and some chips i had some expectations i was hoping that this movie would contain some of the strong points of the first movie awsome animation good flowing story excellent voice cast funny comedy and a kick ass soundtrack but to my disappointment not any of this is to be found in atlantis milo s return had i read some reviews first i might not have been so let down the following paragraph will be directed to those who have seen the first movie and who enjoyed it primarily for the points mentioned when the first scene appears your in for a shock if you just picked atlantis milo s return from the display case at your local videoshop or whatever and had the expectations i had the music feels as a bad imitation of the first movie and the voice cast has been replaced by a not so fitting one with the exception of a few characters like the voice of sweet the actual drawings isnt that bad but the animation in particular is a sad sight the storyline is also pretty weak as its more like three episodes of schooby doo than the single adventurous story we got the last time but dont misunderstand it s not very good schooby doo episodes i didnt laugh a single time although i might have sniggered once or twice to the audience who haven t seen the first movie or don t especially care for a similar sequel here is a fast review of this movie as a stand alone product if you liked schooby doo you might like this movie if you didn t you could still enjoy this movie if you have nothing else to do and i suspect it might be a good kids movie but i wouldn t know it might have been better if milo s return had been a three episode series on a cartoon channel or on breakfast tv '"
      ]
     },
     "execution_count": 15,
     "metadata": {},
     "output_type": "execute_result"
    }
   ],
   "source": [
    "df_train['text'][1]"
   ]
  },
  {
   "cell_type": "code",
   "execution_count": 16,
   "metadata": {},
   "outputs": [],
   "source": [
    "from nltk.corpus import stopwords\n",
    "stop_words = stopwords.words('english')\n",
    "# for data in df:\n",
    "#     data['text'] = [word for word in data['text'].str.split() if word not in stopwords.words('english')]"
   ]
  },
  {
   "cell_type": "code",
   "execution_count": 17,
   "metadata": {},
   "outputs": [],
   "source": [
    "# def tokenize_word(text):\n",
    "#     return text.split()\n",
    "\n",
    "# for data in df:\n",
    "#     data['text'] = data['text'].apply(tokenize_word)\n",
    "\n"
   ]
  },
  {
   "cell_type": "code",
   "execution_count": null,
   "metadata": {},
   "outputs": [],
   "source": []
  },
  {
   "cell_type": "code",
   "execution_count": null,
   "metadata": {},
   "outputs": [],
   "source": []
  },
  {
   "cell_type": "code",
   "execution_count": 18,
   "metadata": {},
   "outputs": [],
   "source": [
    "# from nltk.stem.porter import PorterStemmer\n",
    "# stemmer = PorterStemmer()\n",
    "# def stem_words(text):\n",
    "#     return \" \".join([stemmer.stem(word) for word in text])\n",
    "\n",
    "# for data in df:\n",
    "#     data[\"text\"] = data[\"text\"].apply(lambda text: stem_words(text))"
   ]
  },
  {
   "cell_type": "code",
   "execution_count": 19,
   "metadata": {},
   "outputs": [],
   "source": [
    "from wordcloud import wordcloud\n"
   ]
  },
  {
   "cell_type": "code",
   "execution_count": 20,
   "metadata": {},
   "outputs": [],
   "source": [
    "from wordcloud import WordCloud\n",
    "positivedata = df_train[ df_train['label'] == 1]\n",
    "positivedata =positivedata['text']\n",
    "negdata = df_train[df_train['label'] == 0]\n",
    "negdata= negdata['text']"
   ]
  },
  {
   "cell_type": "code",
   "execution_count": 21,
   "metadata": {},
   "outputs": [],
   "source": [
    "def wordcloud_draw(data, color = 'white'):\n",
    "    words = ' '.join(data)\n",
    "    cleaned_word = \" \".join([word for word in words.split()\n",
    "                              if(word!='movie' and word!='film')\n",
    "                            ])\n",
    "    wordcloud = WordCloud(stopwords=stop_words,\n",
    "                      background_color=color,\n",
    "                      width=2500,\n",
    "                      height=2000\n",
    "                     ).generate(cleaned_word)\n",
    "    plt.figure(1,figsize=(10, 7))\n",
    "    plt.imshow(wordcloud)\n",
    "    plt.axis('off')\n",
    "    plt.show()"
   ]
  },
  {
   "cell_type": "code",
   "execution_count": 22,
   "metadata": {},
   "outputs": [],
   "source": [
    "# print(\"Positive words are as follows\")\n",
    "# wordcloud_draw(positivedata,'white')\n",
    "# print(\"Negative words are as follows\")\n",
    "# wordcloud_draw(negdata)"
   ]
  },
  {
   "cell_type": "markdown",
   "metadata": {},
   "source": []
  },
  {
   "cell_type": "code",
   "execution_count": 23,
   "metadata": {},
   "outputs": [],
   "source": [
    "from nltk.stem.porter import PorterStemmer\n",
    "porter=PorterStemmer()\n",
    "def tokenizer(text):\n",
    "        return text.split()\n",
    "def tokenizer_porter(text):\n",
    "    return [porter.stem(word) for word in text.split()]"
   ]
  },
  {
   "cell_type": "code",
   "execution_count": null,
   "metadata": {},
   "outputs": [],
   "source": []
  },
  {
   "cell_type": "code",
   "execution_count": 24,
   "metadata": {},
   "outputs": [],
   "source": [
    "#TF-IDF vectorisation\n",
    "from sklearn.feature_extraction.text import TfidfVectorizer\n",
    "\n",
    "tfidf = TfidfVectorizer(strip_accents = None, lowercase = False, preprocessor = None, tokenizer = tokenizer_porter, use_idf = True, norm = 'l2', smooth_idf = True)\n",
    "y = df_train['label'].values\n",
    "x = tfidf.fit_transform(df_train['text'])"
   ]
  },
  {
   "cell_type": "code",
   "execution_count": 25,
   "metadata": {},
   "outputs": [],
   "source": [
    "from sklearn.model_selection import train_test_split\n",
    "X_train, X_test, y_train, y_test = train_test_split(x,y, random_state = 1, test_size = 0.2, shuffle = False)"
   ]
  },
  {
   "cell_type": "code",
   "execution_count": 26,
   "metadata": {},
   "outputs": [],
   "source": [
    "#train model\n",
    "\n",
    "from sklearn.linear_model import LogisticRegression\n",
    "\n",
    "clf = LogisticRegression(max_iter = 500).fit(X_train,y_train)"
   ]
  },
  {
   "cell_type": "code",
   "execution_count": 27,
   "metadata": {},
   "outputs": [],
   "source": [
    "y_pred = clf.predict(X_test)\n",
    "\n"
   ]
  },
  {
   "cell_type": "code",
   "execution_count": 28,
   "metadata": {},
   "outputs": [
    {
     "name": "stdout",
     "output_type": "stream",
     "text": [
      "Accuracy: 0.89525\n"
     ]
    }
   ],
   "source": [
    "from sklearn.metrics import accuracy_score\n",
    "print('Accuracy:', accuracy_score(y_test, y_pred))"
   ]
  },
  {
   "cell_type": "code",
   "execution_count": 29,
   "metadata": {},
   "outputs": [],
   "source": [
    "X_val = tfidf.transform(df_test['text'])\n",
    "y_val = df_test['label']"
   ]
  },
  {
   "cell_type": "code",
   "execution_count": 30,
   "metadata": {},
   "outputs": [
    {
     "name": "stdout",
     "output_type": "stream",
     "text": [
      "Accuracy: 0.8974\n"
     ]
    }
   ],
   "source": [
    "y_pred_val = clf.predict(X_val)\n",
    "print('Accuracy:', accuracy_score(y_pred_val, y_val))"
   ]
  },
  {
   "cell_type": "code",
   "execution_count": 31,
   "metadata": {},
   "outputs": [],
   "source": [
    "from xgboost import XGBClassifier\n",
    "xgb = XGBClassifier()"
   ]
  },
  {
   "cell_type": "code",
   "execution_count": 32,
   "metadata": {},
   "outputs": [],
   "source": [
    "from sklearn.metrics import roc_auc_score"
   ]
  },
  {
   "cell_type": "code",
   "execution_count": 33,
   "metadata": {},
   "outputs": [
    {
     "name": "stderr",
     "output_type": "stream",
     "text": [
      "c:\\Users\\91895\\anaconda3\\lib\\site-packages\\xgboost\\sklearn.py:1224: UserWarning: The use of label encoder in XGBClassifier is deprecated and will be removed in a future release. To remove this warning, do the following: 1) Pass option use_label_encoder=False when constructing XGBClassifier object; and 2) Encode your labels (y) as integers starting with 0, i.e. 0, 1, 2, ..., [num_class - 1].\n",
      "  warnings.warn(label_encoder_deprecation_msg, UserWarning)\n"
     ]
    },
    {
     "name": "stdout",
     "output_type": "stream",
     "text": [
      "[19:59:49] WARNING: ..\\src\\learner.cc:1115: Starting in XGBoost 1.3.0, the default evaluation metric used with the objective 'binary:logistic' was changed from 'error' to 'logloss'. Explicitly set eval_metric if you'd like to restore the old behavior.\n",
      "ROC-Score: 0.8599759726313254\n"
     ]
    }
   ],
   "source": [
    "y_pred_xgb = xgb.fit(X_train,y_train).predict(X_test)\n",
    "print('ROC-Score:', roc_auc_score(y_pred_xgb,y_test))"
   ]
  },
  {
   "cell_type": "code",
   "execution_count": 34,
   "metadata": {},
   "outputs": [
    {
     "name": "stdout",
     "output_type": "stream",
     "text": [
      "ROC-Score: 0.8702242716076067\n"
     ]
    }
   ],
   "source": [
    "y_val_xgb = xgb.predict(X_val)\n",
    "print('ROC-Score:', roc_auc_score(y_val_xgb,y_val))"
   ]
  },
  {
   "cell_type": "code",
   "execution_count": 35,
   "metadata": {},
   "outputs": [
    {
     "name": "stdout",
     "output_type": "stream",
     "text": [
      "(32000, 66211)\n"
     ]
    }
   ],
   "source": [
    "print(X_train.shape)"
   ]
  },
  {
   "cell_type": "code",
   "execution_count": 36,
   "metadata": {},
   "outputs": [],
   "source": [
    "from sklearn.model_selection import train_test_split\n",
    "X_train, X_test, y_train, y_test = train_test_split(x,y, random_state = 1, test_size = 0.2, shuffle = False)"
   ]
  },
  {
   "cell_type": "code",
   "execution_count": 37,
   "metadata": {},
   "outputs": [],
   "source": [
    "X_train = X_train.astype(np.float32)\n",
    "y_train = y_train.astype(np.float32)"
   ]
  },
  {
   "cell_type": "code",
   "execution_count": 38,
   "metadata": {},
   "outputs": [],
   "source": [
    "from scipy.sparse import lil_matrix\n",
    "X_train = lil_matrix(X_train).toarray()\n"
   ]
  },
  {
   "cell_type": "code",
   "execution_count": 39,
   "metadata": {},
   "outputs": [
    {
     "data": {
      "text/plain": [
       "(32000, 66211)"
      ]
     },
     "execution_count": 39,
     "metadata": {},
     "output_type": "execute_result"
    }
   ],
   "source": [
    "X_train.shape"
   ]
  },
  {
   "cell_type": "code",
   "execution_count": 40,
   "metadata": {},
   "outputs": [],
   "source": [
    "import torch.nn as nn\n",
    "import torch"
   ]
  },
  {
   "cell_type": "code",
   "execution_count": 41,
   "metadata": {},
   "outputs": [],
   "source": [
    "X_train = torch.from_numpy(X_train)\n",
    "y_train = torch.from_numpy(y_train)"
   ]
  },
  {
   "cell_type": "code",
   "execution_count": null,
   "metadata": {},
   "outputs": [],
   "source": []
  },
  {
   "cell_type": "code",
   "execution_count": 42,
   "metadata": {},
   "outputs": [],
   "source": [
    "\n",
    "class Neural_Net(nn.Module):\n",
    "  \n",
    "  def __init__(self, input_dim, hidden_dim ):\n",
    "    super().__init__()\n",
    "    torch.manual_seed(0)\n",
    "    self.net = nn.Sequential(\n",
    "        nn.Linear(input_dim, hidden_dim), \n",
    "        nn.Tanh(), \n",
    "        nn.Linear(hidden_dim, 1), \n",
    "        nn.Sigmoid()\n",
    "    )\n",
    "\n",
    "  def forward(self, X):\n",
    "    return self.net(X)"
   ]
  },
  {
   "cell_type": "code",
   "execution_count": 43,
   "metadata": {},
   "outputs": [],
   "source": [
    "input_dim = X_train.shape[1]\n",
    "hidden_dim = 100\n",
    "model = Neural_Net(input_dim, hidden_dim)"
   ]
  },
  {
   "cell_type": "code",
   "execution_count": 44,
   "metadata": {},
   "outputs": [
    {
     "name": "stdout",
     "output_type": "stream",
     "text": [
      "<bound method Module.parameters of Neural_Net(\n",
      "  (net): Sequential(\n",
      "    (0): Linear(in_features=66211, out_features=100, bias=True)\n",
      "    (1): Tanh()\n",
      "    (2): Linear(in_features=100, out_features=1, bias=True)\n",
      "    (3): Sigmoid()\n",
      "  )\n",
      ")>\n"
     ]
    }
   ],
   "source": [
    "print(model.parameters)"
   ]
  },
  {
   "cell_type": "code",
   "execution_count": 45,
   "metadata": {},
   "outputs": [],
   "source": [
    "import torch.nn.functional as F"
   ]
  },
  {
   "cell_type": "code",
   "execution_count": null,
   "metadata": {},
   "outputs": [],
   "source": []
  },
  {
   "cell_type": "code",
   "execution_count": 46,
   "metadata": {},
   "outputs": [
    {
     "name": "stdout",
     "output_type": "stream",
     "text": [
      "torch.Size([32000, 66211])\n",
      "torch.Size([32000])\n"
     ]
    }
   ],
   "source": [
    "print(X_train.shape)\n",
    "print(y_train.shape)\n"
   ]
  },
  {
   "cell_type": "code",
   "execution_count": 47,
   "metadata": {},
   "outputs": [],
   "source": [
    "from torch.utils.data import Dataset, DataLoader\n",
    "class CustomDataset(Dataset):\n",
    "    def __init__(self, X, y):\n",
    "        self.X = X\n",
    "        self.y = y\n",
    "\n",
    "    def __len__(self):\n",
    "        return len(self.y)\n",
    "\n",
    "    def __getitem__(self, idx):\n",
    "        y = self.y[idx]\n",
    "        X = self.X[idx]\n",
    "        return X,y"
   ]
  },
  {
   "cell_type": "code",
   "execution_count": 48,
   "metadata": {},
   "outputs": [],
   "source": [
    "data = CustomDataset(X_train, y_train)\n",
    "train_loader = DataLoader(data, batch_size=256, shuffle=True)"
   ]
  },
  {
   "cell_type": "code",
   "execution_count": 49,
   "metadata": {},
   "outputs": [
    {
     "name": "stdout",
     "output_type": "stream",
     "text": [
      "torch.Size([256, 66211])\n",
      "torch.Size([256])\n",
      "torch.Size([256, 66211])\n",
      "torch.Size([256])\n",
      "torch.Size([256, 66211])\n",
      "torch.Size([256])\n",
      "torch.Size([256, 66211])\n",
      "torch.Size([256])\n",
      "torch.Size([256, 66211])\n",
      "torch.Size([256])\n",
      "torch.Size([256, 66211])\n",
      "torch.Size([256])\n",
      "torch.Size([256, 66211])\n",
      "torch.Size([256])\n",
      "torch.Size([256, 66211])\n",
      "torch.Size([256])\n",
      "torch.Size([256, 66211])\n",
      "torch.Size([256])\n",
      "torch.Size([256, 66211])\n",
      "torch.Size([256])\n",
      "torch.Size([256, 66211])\n",
      "torch.Size([256])\n",
      "torch.Size([256, 66211])\n",
      "torch.Size([256])\n",
      "torch.Size([256, 66211])\n",
      "torch.Size([256])\n",
      "torch.Size([256, 66211])\n",
      "torch.Size([256])\n",
      "torch.Size([256, 66211])\n",
      "torch.Size([256])\n",
      "torch.Size([256, 66211])\n",
      "torch.Size([256])\n",
      "torch.Size([256, 66211])\n",
      "torch.Size([256])\n",
      "torch.Size([256, 66211])\n",
      "torch.Size([256])\n",
      "torch.Size([256, 66211])\n",
      "torch.Size([256])\n",
      "torch.Size([256, 66211])\n",
      "torch.Size([256])\n",
      "torch.Size([256, 66211])\n",
      "torch.Size([256])\n",
      "torch.Size([256, 66211])\n",
      "torch.Size([256])\n",
      "torch.Size([256, 66211])\n",
      "torch.Size([256])\n",
      "torch.Size([256, 66211])\n",
      "torch.Size([256])\n",
      "torch.Size([256, 66211])\n",
      "torch.Size([256])\n",
      "torch.Size([256, 66211])\n",
      "torch.Size([256])\n",
      "torch.Size([256, 66211])\n",
      "torch.Size([256])\n",
      "torch.Size([256, 66211])\n",
      "torch.Size([256])\n",
      "torch.Size([256, 66211])\n",
      "torch.Size([256])\n",
      "torch.Size([256, 66211])\n",
      "torch.Size([256])\n",
      "torch.Size([256, 66211])\n",
      "torch.Size([256])\n",
      "torch.Size([256, 66211])\n",
      "torch.Size([256])\n",
      "torch.Size([256, 66211])\n",
      "torch.Size([256])\n",
      "torch.Size([256, 66211])\n",
      "torch.Size([256])\n",
      "torch.Size([256, 66211])\n",
      "torch.Size([256])\n",
      "torch.Size([256, 66211])\n",
      "torch.Size([256])\n",
      "torch.Size([256, 66211])\n",
      "torch.Size([256])\n",
      "torch.Size([256, 66211])\n",
      "torch.Size([256])\n",
      "torch.Size([256, 66211])\n",
      "torch.Size([256])\n",
      "torch.Size([256, 66211])\n",
      "torch.Size([256])\n",
      "torch.Size([256, 66211])\n",
      "torch.Size([256])\n",
      "torch.Size([256, 66211])\n",
      "torch.Size([256])\n",
      "torch.Size([256, 66211])\n",
      "torch.Size([256])\n",
      "torch.Size([256, 66211])\n",
      "torch.Size([256])\n",
      "torch.Size([256, 66211])\n",
      "torch.Size([256])\n",
      "torch.Size([256, 66211])\n",
      "torch.Size([256])\n",
      "torch.Size([256, 66211])\n",
      "torch.Size([256])\n",
      "torch.Size([256, 66211])\n",
      "torch.Size([256])\n",
      "torch.Size([256, 66211])\n",
      "torch.Size([256])\n",
      "torch.Size([256, 66211])\n",
      "torch.Size([256])\n",
      "torch.Size([256, 66211])\n",
      "torch.Size([256])\n",
      "torch.Size([256, 66211])\n",
      "torch.Size([256])\n",
      "torch.Size([256, 66211])\n",
      "torch.Size([256])\n",
      "torch.Size([256, 66211])\n",
      "torch.Size([256])\n",
      "torch.Size([256, 66211])\n",
      "torch.Size([256])\n",
      "torch.Size([256, 66211])\n",
      "torch.Size([256])\n",
      "torch.Size([256, 66211])\n",
      "torch.Size([256])\n",
      "torch.Size([256, 66211])\n",
      "torch.Size([256])\n",
      "torch.Size([256, 66211])\n",
      "torch.Size([256])\n",
      "torch.Size([256, 66211])\n",
      "torch.Size([256])\n",
      "torch.Size([256, 66211])\n",
      "torch.Size([256])\n",
      "torch.Size([256, 66211])\n",
      "torch.Size([256])\n",
      "torch.Size([256, 66211])\n",
      "torch.Size([256])\n",
      "torch.Size([256, 66211])\n",
      "torch.Size([256])\n",
      "torch.Size([256, 66211])\n",
      "torch.Size([256])\n",
      "torch.Size([256, 66211])\n",
      "torch.Size([256])\n",
      "torch.Size([256, 66211])\n",
      "torch.Size([256])\n",
      "torch.Size([256, 66211])\n",
      "torch.Size([256])\n",
      "torch.Size([256, 66211])\n",
      "torch.Size([256])\n",
      "torch.Size([256, 66211])\n",
      "torch.Size([256])\n",
      "torch.Size([256, 66211])\n",
      "torch.Size([256])\n",
      "torch.Size([256, 66211])\n",
      "torch.Size([256])\n",
      "torch.Size([256, 66211])\n",
      "torch.Size([256])\n",
      "torch.Size([256, 66211])\n",
      "torch.Size([256])\n",
      "torch.Size([256, 66211])\n",
      "torch.Size([256])\n",
      "torch.Size([256, 66211])\n",
      "torch.Size([256])\n",
      "torch.Size([256, 66211])\n",
      "torch.Size([256])\n",
      "torch.Size([256, 66211])\n",
      "torch.Size([256])\n",
      "torch.Size([256, 66211])\n",
      "torch.Size([256])\n",
      "torch.Size([256, 66211])\n",
      "torch.Size([256])\n",
      "torch.Size([256, 66211])\n",
      "torch.Size([256])\n",
      "torch.Size([256, 66211])\n",
      "torch.Size([256])\n",
      "torch.Size([256, 66211])\n",
      "torch.Size([256])\n",
      "torch.Size([256, 66211])\n",
      "torch.Size([256])\n",
      "torch.Size([256, 66211])\n",
      "torch.Size([256])\n",
      "torch.Size([256, 66211])\n",
      "torch.Size([256])\n",
      "torch.Size([256, 66211])\n",
      "torch.Size([256])\n",
      "torch.Size([256, 66211])\n",
      "torch.Size([256])\n",
      "torch.Size([256, 66211])\n",
      "torch.Size([256])\n",
      "torch.Size([256, 66211])\n",
      "torch.Size([256])\n",
      "torch.Size([256, 66211])\n",
      "torch.Size([256])\n",
      "torch.Size([256, 66211])\n",
      "torch.Size([256])\n",
      "torch.Size([256, 66211])\n",
      "torch.Size([256])\n",
      "torch.Size([256, 66211])\n",
      "torch.Size([256])\n",
      "torch.Size([256, 66211])\n",
      "torch.Size([256])\n",
      "torch.Size([256, 66211])\n",
      "torch.Size([256])\n",
      "torch.Size([256, 66211])\n",
      "torch.Size([256])\n",
      "torch.Size([256, 66211])\n",
      "torch.Size([256])\n",
      "torch.Size([256, 66211])\n",
      "torch.Size([256])\n",
      "torch.Size([256, 66211])\n",
      "torch.Size([256])\n",
      "torch.Size([256, 66211])\n",
      "torch.Size([256])\n",
      "torch.Size([256, 66211])\n",
      "torch.Size([256])\n",
      "torch.Size([256, 66211])\n",
      "torch.Size([256])\n",
      "torch.Size([256, 66211])\n",
      "torch.Size([256])\n",
      "torch.Size([256, 66211])\n",
      "torch.Size([256])\n",
      "torch.Size([256, 66211])\n",
      "torch.Size([256])\n",
      "torch.Size([256, 66211])\n",
      "torch.Size([256])\n",
      "torch.Size([256, 66211])\n",
      "torch.Size([256])\n",
      "torch.Size([256, 66211])\n",
      "torch.Size([256])\n",
      "torch.Size([256, 66211])\n",
      "torch.Size([256])\n",
      "torch.Size([256, 66211])\n",
      "torch.Size([256])\n",
      "torch.Size([256, 66211])\n",
      "torch.Size([256])\n",
      "torch.Size([256, 66211])\n",
      "torch.Size([256])\n",
      "torch.Size([256, 66211])\n",
      "torch.Size([256])\n",
      "torch.Size([256, 66211])\n",
      "torch.Size([256])\n",
      "torch.Size([256, 66211])\n",
      "torch.Size([256])\n",
      "torch.Size([256, 66211])\n",
      "torch.Size([256])\n",
      "torch.Size([256, 66211])\n",
      "torch.Size([256])\n",
      "torch.Size([256, 66211])\n",
      "torch.Size([256])\n",
      "torch.Size([256, 66211])\n",
      "torch.Size([256])\n",
      "torch.Size([256, 66211])\n",
      "torch.Size([256])\n",
      "torch.Size([256, 66211])\n",
      "torch.Size([256])\n",
      "torch.Size([256, 66211])\n",
      "torch.Size([256])\n",
      "torch.Size([256, 66211])\n",
      "torch.Size([256])\n",
      "torch.Size([256, 66211])\n",
      "torch.Size([256])\n"
     ]
    }
   ],
   "source": [
    "for X ,y in (train_loader):\n",
    "    print(X.shape)\n",
    "    print(y.shape)\n",
    "    "
   ]
  },
  {
   "cell_type": "code",
   "execution_count": null,
   "metadata": {},
   "outputs": [],
   "source": []
  },
  {
   "cell_type": "code",
   "execution_count": 52,
   "metadata": {},
   "outputs": [],
   "source": [
    "\n",
    "\n",
    "def train(train_loader, model, opt, criterion, epochs = 10):\n",
    "\n",
    "  \n",
    "  for epoch in range(epochs):\n",
    "    loss_arr = []\n",
    "    for X, y in (train_loader):\n",
    "\n",
    "      y_hat = model(X)\n",
    "      y_hat = y_hat.reshape(-1)\n",
    "      loss = criterion(y_hat, y)\n",
    "      loss_arr.append(loss.item())\n",
    "      loss.backward()\n",
    "      \n",
    "      opt.step()\n",
    "      opt.zero_grad()\n",
    "  plt.plot(loss_arr, 'r-')\n",
    "  plt.show()      \n",
    "  print('Loss before training', loss_arr[0])\n",
    "  print('Loss after training', loss_arr[-1])"
   ]
  },
  {
   "cell_type": "code",
   "execution_count": 53,
   "metadata": {},
   "outputs": [
    {
     "data": {
      "image/png": "[encoded data removed]",
      "text/plain": [
       "<Figure size 432x288 with 1 Axes>"
      ]
     },
     "metadata": {
      "needs_background": "dark"
     },
     "output_type": "display_data"
    },
    {
     "name": "stdout",
     "output_type": "stream",
     "text": [
      "Loss before training 0.6270738840103149\n",
      "Loss after training 0.2503207325935364\n"
     ]
    }
   ],
   "source": [
    "criterion = nn.BCELoss()\n",
    "opt = torch.optim.SGD(model.parameters(), lr=1)\n",
    "train(train_loader, model, opt, criterion)"
   ]
  },
  {
   "cell_type": "markdown",
   "metadata": {},
   "source": []
  },
  {
   "cell_type": "code",
   "execution_count": 54,
   "metadata": {},
   "outputs": [],
   "source": [
    "import os\n",
    "path = os.getcwd()\n",
    "torch.save(model.state_dict(), 'model.pth')"
   ]
  },
  {
   "cell_type": "code",
   "execution_count": 58,
   "metadata": {},
   "outputs": [
    {
     "ename": "AttributeError",
     "evalue": "'collections.OrderedDict' object has no attribute 'eval'",
     "output_type": "error",
     "traceback": [
      "\u001b[1;31m---------------------------------------------------------------------------\u001b[0m",
      "\u001b[1;31mAttributeError\u001b[0m                            Traceback (most recent call last)",
      "\u001b[1;32m~\\AppData\\Local\\Temp/ipykernel_10068/3428920684.py\u001b[0m in \u001b[0;36m<module>\u001b[1;34m\u001b[0m\n\u001b[0;32m      1\u001b[0m \u001b[0mload_model\u001b[0m \u001b[1;33m=\u001b[0m \u001b[0mtorch\u001b[0m\u001b[1;33m.\u001b[0m\u001b[0mload\u001b[0m\u001b[1;33m(\u001b[0m\u001b[1;34m'model.pth'\u001b[0m\u001b[1;33m)\u001b[0m\u001b[1;33m\u001b[0m\u001b[1;33m\u001b[0m\u001b[0m\n\u001b[1;32m----> 2\u001b[1;33m \u001b[0mload_model\u001b[0m\u001b[1;33m.\u001b[0m\u001b[0meval\u001b[0m\u001b[1;33m(\u001b[0m\u001b[1;33m)\u001b[0m\u001b[1;33m\u001b[0m\u001b[1;33m\u001b[0m\u001b[0m\n\u001b[0m",
      "\u001b[1;31mAttributeError\u001b[0m: 'collections.OrderedDict' object has no attribute 'eval'"
     ]
    }
   ],
   "source": []
  },
  {
   "cell_type": "code",
   "execution_count": 57,
   "metadata": {},
   "outputs": [
    {
     "name": "stdout",
     "output_type": "stream",
     "text": [
      "Parameter containing:\n",
      "tensor([[ 1.1671e-02,  2.4316e-03, -8.0045e-04,  ...,  3.6066e-03,\n",
      "         -2.7346e-03, -3.5569e-03],\n",
      "        [ 1.7118e-02, -3.2536e-03,  4.3740e-03,  ..., -2.8100e-04,\n",
      "         -1.7160e-03,  8.4744e-04],\n",
      "        [-3.3789e-02,  2.5736e-04, -9.9817e-03,  ...,  2.1146e-03,\n",
      "          2.1057e-03, -7.5689e-04],\n",
      "        ...,\n",
      "        [-1.6587e-02,  8.8566e-04,  3.7138e-04,  ..., -3.0573e-03,\n",
      "         -1.1121e-03, -3.2350e-05],\n",
      "        [-6.9180e-03, -2.9236e-03, -4.0337e-03,  ..., -2.6769e-03,\n",
      "         -8.7437e-04,  1.6300e-04],\n",
      "        [ 2.2647e-02, -2.7564e-03,  3.9797e-03,  ...,  2.0473e-03,\n",
      "          3.7691e-03,  3.8227e-03]], requires_grad=True)\n",
      "Parameter containing:\n",
      "tensor([ 0.0026,  0.0049, -0.0098,  0.0104, -0.0014,  0.0126, -0.0117,  0.0056,\n",
      "        -0.0130,  0.0052,  0.0003, -0.0091, -0.0031, -0.0122, -0.0029,  0.0019,\n",
      "         0.0071,  0.0062,  0.0033, -0.0011, -0.0059, -0.0058,  0.0058, -0.0051,\n",
      "        -0.0003,  0.0017, -0.0011,  0.0006, -0.0093,  0.0009, -0.0140, -0.0133,\n",
      "        -0.0004, -0.0128, -0.0147,  0.0098, -0.0133,  0.0045, -0.0050,  0.0147,\n",
      "        -0.0072, -0.0011,  0.0125, -0.0068,  0.0042,  0.0009, -0.0062,  0.0070,\n",
      "        -0.0024,  0.0157, -0.0131, -0.0040, -0.0041,  0.0047, -0.0088, -0.0124,\n",
      "         0.0033,  0.0131,  0.0038, -0.0118,  0.0147, -0.0083, -0.0128, -0.0098,\n",
      "         0.0028,  0.0053,  0.0003, -0.0013,  0.0004, -0.0139,  0.0138,  0.0139,\n",
      "         0.0032, -0.0083, -0.0160, -0.0020, -0.0004,  0.0005, -0.0149, -0.0101,\n",
      "         0.0031,  0.0106, -0.0052,  0.0035, -0.0002, -0.0049,  0.0042, -0.0084,\n",
      "         0.0129, -0.0135, -0.0099, -0.0031,  0.0022,  0.0056, -0.0140, -0.0026,\n",
      "        -0.0112, -0.0023, -0.0025,  0.0060], requires_grad=True)\n",
      "Parameter containing:\n",
      "tensor([[-0.1723, -0.3013,  0.4497, -0.5370,  0.0688, -0.6881,  0.5578, -0.2536,\n",
      "          0.6566, -0.2823, -0.0056,  0.4908,  0.1986,  0.6716,  0.2103, -0.0735,\n",
      "         -0.4140, -0.3180, -0.1258,  0.0368,  0.3255,  0.3379, -0.2914,  0.3291,\n",
      "          0.0198, -0.0789,  0.0170, -0.0463,  0.4145, -0.0340,  0.7171,  0.6996,\n",
      "          0.0702,  0.6655,  0.7794, -0.4869,  0.6320, -0.2106,  0.2679, -0.7758,\n",
      "          0.4053,  0.0307, -0.6578,  0.3559, -0.1918, -0.0790,  0.3889, -0.3713,\n",
      "          0.1231, -0.7807,  0.6886,  0.2429,  0.2505, -0.2414,  0.4492,  0.6572,\n",
      "         -0.1892, -0.7592, -0.2390,  0.5933, -0.7544,  0.4376,  0.6572,  0.5186,\n",
      "         -0.1191, -0.2898,  0.0200,  0.1499, -0.0674,  0.7247, -0.7040, -0.7223,\n",
      "         -0.2091,  0.3926,  0.7529,  0.1500,  0.0471,  0.0307,  0.7447,  0.5782,\n",
      "         -0.1569, -0.5971,  0.3050, -0.1593,  0.0254,  0.2569, -0.2860,  0.4815,\n",
      "         -0.6132,  0.6539,  0.5372,  0.2084, -0.1517, -0.2466,  0.7213,  0.1497,\n",
      "          0.5997,  0.1911,  0.1306, -0.2952]], requires_grad=True)\n",
      "Parameter containing:\n",
      "tensor([0.0149], requires_grad=True)\n"
     ]
    }
   ],
   "source": [
    "loaded_model = Neural_Net(input_dim, hidden_dim)\n",
    "loaded_model.load_state_dict(torch.load('model.pth'))\n",
    "loaded_model.eval()\n",
    "for param in loaded_model.parameters():\n",
    "    print(param)\n"
   ]
  },
  {
   "cell_type": "code",
   "execution_count": null,
   "metadata": {},
   "outputs": [],
   "source": []
  }
 ],
 "metadata": {
  "kernelspec": {
   "display_name": "Python 3.9.7 ('base')",
   "language": "python",
   "name": "python3"
  },
  "language_info": {
   "codemirror_mode": {
    "name": "ipython",
    "version": 3
   },
   "file_extension": ".py",
   "mimetype": "text/x-python",
   "name": "python",
   "nbconvert_exporter": "python",
   "pygments_lexer": "ipython3",
   "version": "3.9.7"
  },
  "orig_nbformat": 4,
  "vscode": {
   "interpreter": {
    "hash": "aa1272f0ab8c6ae55be16eeb48862c50cf01127066e6a9975f4ed045dd0585af"
   }
  }
 },
 "nbformat": 4,
 "nbformat_minor": 2
}
